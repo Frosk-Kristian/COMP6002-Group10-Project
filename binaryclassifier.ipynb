{
 "cells": [
  {
   "cell_type": "code",
   "execution_count": 1,
   "metadata": {},
   "outputs": [],
   "source": [
    "# program for testing rf_wrapper.py\n",
    "import os\n",
    "import pandas as pd\n",
    "from Modules.rf_wrapper import RF_Model, Preprocess\n",
    "\n",
    "# set up directories\n",
    "data_dir = os.getcwd() + r'/Data'\n",
    "model_dir = os.getcwd() + r'/Models/BINARY'"
   ]
  },
  {
   "cell_type": "code",
   "execution_count": 2,
   "metadata": {},
   "outputs": [],
   "source": [
    "# load testing data\n",
    "data = pd.read_csv(f'{data_dir}/our_dataset.zip', compression='zip')"
   ]
  },
  {
   "cell_type": "code",
   "execution_count": null,
   "metadata": {},
   "outputs": [],
   "source": [
    "rf = RF_Model()\n",
    "if rf.LoadGridSearch(f'{model_dir}/random_forest.joblib'):\n",
    "    print(\"Successfully loaded model.\")\n",
    "\n",
    "if rf.LoadScaler(f'{model_dir}/std_scaler.joblib'):\n",
    "    print(\"Successfully loaded scaler.\")"
   ]
  }
 ],
 "metadata": {
  "kernelspec": {
   "display_name": "Python 3",
   "language": "python",
   "name": "python3"
  },
  "language_info": {
   "codemirror_mode": {
    "name": "ipython",
    "version": 3
   },
   "file_extension": ".py",
   "mimetype": "text/x-python",
   "name": "python",
   "nbconvert_exporter": "python",
   "pygments_lexer": "ipython3",
   "version": "3.10.12"
  }
 },
 "nbformat": 4,
 "nbformat_minor": 2
}
