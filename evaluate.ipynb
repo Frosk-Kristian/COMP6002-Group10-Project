{
 "cells": [
  {
   "cell_type": "code",
   "execution_count": 1,
   "metadata": {},
   "outputs": [],
   "source": [
    "import os\n",
    "import pandas as pd"
   ]
  },
  {
   "cell_type": "code",
   "execution_count": 2,
   "metadata": {},
   "outputs": [],
   "source": [
    "my_fpath = os.getcwd() + r'/Predictions/UDP_09-05-2024'\n",
    "my_df = pd.read_csv(f\"{my_fpath}.zip\", compression={'method' : 'zip', 'archive_name' : f'UDP_09-06-2024.csv'})\n",
    "\n",
    "true_ = my_df[' Label']\n",
    "guess_ = my_df['Predicted Label']"
   ]
  },
  {
   "cell_type": "code",
   "execution_count": 19,
   "metadata": {},
   "outputs": [
    {
     "name": "stdout",
     "output_type": "stream",
     "text": [
      "(176921, 86)\n",
      "Correctly Identified as DDoS (TP): 119398\n",
      "Incorrectly Identified as DDoS (FP): 153\n",
      "Correctly Identified as Safe (TN): 1297\n",
      "Incorrectly Identified as DDoS (FN): 56073\n",
      "TOTAL: 176921\n",
      "F1 Score: 0.8094176027550488\n",
      "Accuracy: 68.21971388359776%\n"
     ]
    }
   ],
   "source": [
    "true_positive = 0\n",
    "false_positive = 0\n",
    "true_negative = 0\n",
    "false_negative = 0\n",
    "\n",
    "safe = \"BENIGN\".lower()\n",
    "for i in true_.index:\n",
    "    if str(true_[i]).lower() in safe:\n",
    "        if str(guess_[i]).lower() in safe:\n",
    "            true_negative += 1\n",
    "        else:\n",
    "            false_positive += 1\n",
    "    else:\n",
    "        if str(guess_[i]).lower() in safe:\n",
    "            false_negative += 1\n",
    "        else:\n",
    "            true_positive += 1\n",
    "\n",
    "print(f\"Correctly Identified as DDoS (TP): {true_positive}\\nIncorrectly Identified as DDoS (FP): {false_positive}\\nCorrectly Identified as Safe (TN): {true_negative}\\nIncorrectly Identified as DDoS (FN): {false_negative}\")\n",
    "print(f\"TOTAL: {sum([true_positive, false_positive, true_negative, false_negative])}\")\n",
    "\n",
    "my_f1 = (2 * true_positive) / (2 * true_positive + false_positive + false_negative)\n",
    "print(f\"F1 Score: {my_f1}\\nAccuracy: {((true_positive + true_negative) / sum([true_positive, false_positive, true_negative, false_negative])) * 100}%\")"
   ]
  },
  {
   "cell_type": "code",
   "execution_count": 14,
   "metadata": {},
   "outputs": [
    {
     "name": "stdout",
     "output_type": "stream",
     "text": [
      "Correct: 1297\n",
      "Incorrect: 175624\n",
      "Accuracy: 0.7330955624261676%\n"
     ]
    }
   ],
   "source": [
    "correct = 0\n",
    "incorrect = 0\n",
    "\n",
    "for i in true_.index:\n",
    "    if true_[i] == guess_[i]:\n",
    "        correct += 1\n",
    "    else:\n",
    "        incorrect += 1\n",
    "\n",
    "my_acc = (correct / (correct + incorrect)) * 100.0\n",
    "\n",
    "print(f\"Correctly: {correct}\\nIncorrect: {incorrect}\\nAccuracy: {my_acc}%\")\n"
   ]
  }
 ],
 "metadata": {
  "kernelspec": {
   "display_name": "Python 3",
   "language": "python",
   "name": "python3"
  },
  "language_info": {
   "codemirror_mode": {
    "name": "ipython",
    "version": 3
   },
   "file_extension": ".py",
   "mimetype": "text/x-python",
   "name": "python",
   "nbconvert_exporter": "python",
   "pygments_lexer": "ipython3",
   "version": "3.10.12"
  }
 },
 "nbformat": 4,
 "nbformat_minor": 2
}
