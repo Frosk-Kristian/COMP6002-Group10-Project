{
 "cells": [
  {
   "cell_type": "markdown",
   "metadata": {},
   "source": [
    "## Install Dependencies\n",
    "Only needed on first run, to ensure you have the correct versions of required libraries."
   ]
  },
  {
   "cell_type": "code",
   "execution_count": null,
   "metadata": {},
   "outputs": [],
   "source": [
    "%pip install --force-reinstall -r requirements.txt"
   ]
  },
  {
   "cell_type": "markdown",
   "metadata": {},
   "source": [
    "## Imports\n",
    "Imports libraries"
   ]
  },
  {
   "cell_type": "code",
   "execution_count": 21,
   "metadata": {},
   "outputs": [],
   "source": [
    "import os\n",
    "import pandas as pd\n",
    "from Modules.rf_wrapper import RF_Model, Preprocess, Evaluate"
   ]
  },
  {
   "cell_type": "markdown",
   "metadata": {},
   "source": [
    "## Files & Directories\n",
    "Sets up variables used when performing file I/O."
   ]
  },
  {
   "cell_type": "code",
   "execution_count": 22,
   "metadata": {},
   "outputs": [],
   "source": [
    "# set up directories\n",
    "data_dir = os.getcwd() + r'/Data'\n",
    "model_dir = os.getcwd() + r'/Models'\n",
    "predict_dir = os.getcwd() + r'/Predictions'\n",
    "\n",
    "# dataset names\n",
    "data_fnames = [\"demo\"]"
   ]
  },
  {
   "cell_type": "markdown",
   "metadata": {},
   "source": [
    "## Initialise Model\n",
    "Creates an instance of RF_Model, and loads the model and scaler from files."
   ]
  },
  {
   "cell_type": "code",
   "execution_count": 23,
   "metadata": {},
   "outputs": [
    {
     "name": "stdout",
     "output_type": "stream",
     "text": [
      "Successfully loaded model.\n",
      "Successfully loaded scaler.\n"
     ]
    }
   ],
   "source": [
    "rf = RF_Model()\n",
    "if rf.LoadGridSearch(f'{model_dir}/random_forest.joblib'):\n",
    "    print(\"Successfully loaded model.\")\n",
    "\n",
    "if rf.LoadScaler(f'{model_dir}/std_scaler.joblib'):\n",
    "    print(\"Successfully loaded scaler.\")"
   ]
  },
  {
   "cell_type": "markdown",
   "metadata": {},
   "source": [
    "## Make Predictions\n",
    "Iterates through each dataset:\n",
    "* Loads the dataset into a Pandas dataframe.\n",
    "* Performs preprocessing on the dataset.\n",
    "* Makes predictions on the processed data.\n",
    "* Prints model performance.\n",
    "* Exports predictions to a zipped .csv file.\n",
    "\n",
    "If an exception is encountered at any point, stops the loop early."
   ]
  },
  {
   "cell_type": "code",
   "execution_count": 24,
   "metadata": {},
   "outputs": [
    {
     "name": "stdout",
     "output_type": "stream",
     "text": [
      "demo:\n",
      " Accuracy: 0.4642857142857143\n",
      " F1 Score: 0.5976082740788622\n"
     ]
    }
   ],
   "source": [
    "for name in data_fnames:\n",
    "    try:\n",
    "        df = pd.read_csv(f'{data_dir}/{name}.zip', compression='zip')\n",
    "        df_p = Preprocess(df)\n",
    "    except Exception as e1:\n",
    "        print(f\"ERROR: an exception was thrown while loading or preprocessing the {name} dataset!\\n\", repr(e1))\n",
    "        break\n",
    "    else:\n",
    "        try:\n",
    "            pred = rf.Predict(df_p)\n",
    "            pred_accuracy, pred_f1 = Evaluate(df_p['IsDDoS'].to_numpy(), pred)\n",
    "            print(f\"{name}:\\n Accuracy: {pred_accuracy}\\n F1 Score: {pred_f1}\")\n",
    "        except Exception as e2:\n",
    "            print(f\"ERROR: an exception was thrown while making predictions on the {name} dataset!\\n\", repr(e2))\n",
    "            break\n",
    "        else:\n",
    "            try:\n",
    "                pred_fname = f\"{name}_{pd.Timestamp.today(tz='Australia/Perth').strftime('%d-%m-%Y')}\"\n",
    "                df['IsDDoS_Truth'] = df_p['IsDDoS']\n",
    "                df['IsDDoS_Predict'] = pred\n",
    "                df.to_csv(f\"{predict_dir}/{pred_fname}.zip\", compression={\"method\": \"zip\", \"archive_name\": f\"{pred_fname}.csv\"}, index=False)\n",
    "            except Exception as e3:\n",
    "                print(f\"ERROR: an exception was thrown while exporting {name} predictions!\\n\", repr(e3))\n",
    "                break"
   ]
  }
 ],
 "metadata": {
  "kernelspec": {
   "display_name": "Python 3",
   "language": "python",
   "name": "python3"
  },
  "language_info": {
   "codemirror_mode": {
    "name": "ipython",
    "version": 3
   },
   "file_extension": ".py",
   "mimetype": "text/x-python",
   "name": "python",
   "nbconvert_exporter": "python",
   "pygments_lexer": "ipython3",
   "version": "3.10.12"
  }
 },
 "nbformat": 4,
 "nbformat_minor": 2
}
