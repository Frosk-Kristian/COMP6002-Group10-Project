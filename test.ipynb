{
 "cells": [
  {
   "cell_type": "code",
   "execution_count": 1,
   "metadata": {},
   "outputs": [
    {
     "name": "stdout",
     "output_type": "stream",
     "text": [
      "Using pip 22.0.2 from /usr/lib/python3/dist-packages/pip (python 3.10)\n",
      "Defaulting to user installation because normal site-packages is not writeable\n",
      "Collecting scikit-learn==1.2.2\n",
      "  Downloading scikit_learn-1.2.2-cp310-cp310-manylinux_2_17_x86_64.manylinux2014_x86_64.whl (9.6 MB)\n",
      "\u001b[2K     \u001b[90m━━━━━━━━━━━━━━━━━━━━━━━━━━━━━━━━━━━━━━━━\u001b[0m \u001b[32m9.6/9.6 MB\u001b[0m \u001b[31m3.0 MB/s\u001b[0m eta \u001b[36m0:00:00\u001b[0m00:01\u001b[0m00:01\u001b[0m\n",
      "\u001b[?25h  Link requires a different Python (3.10.12 not in: '>=3.7,<3.10'): https://files.pythonhosted.org/packages/99/f1/c00d6be56e1a718a3068079e3ec8ce044d7179345280f6a3f5066068af0d/scipy-1.6.2.tar.gz#sha256=e9da33e21c9bc1b92c20b5328adb13e5f193b924c9b969cd700c8908f315aa59 (from https://pypi.org/simple/scipy/) (requires-python:>=3.7,<3.10)\n",
      "  Link requires a different Python (3.10.12 not in: '>=3.7,<3.10'): https://files.pythonhosted.org/packages/fe/fd/8704c7b7b34cdac850485e638346025ca57c5a859934b9aa1be5399b33b7/scipy-1.6.3.tar.gz#sha256=a75b014d3294fce26852a9d04ea27b5671d86736beb34acdfc05859246260707 (from https://pypi.org/simple/scipy/) (requires-python:>=3.7,<3.10)\n",
      "  Link requires a different Python (3.10.12 not in: '>=3.7,<3.10'): https://files.pythonhosted.org/packages/bb/bb/944f559d554df6c9adf037aa9fc982a9706ee0e96c0d5beac701cb158900/scipy-1.7.0.tar.gz#sha256=998c5e6ea649489302de2c0bc026ed34284f531df89d2bdc8df3a0d44d165739 (from https://pypi.org/simple/scipy/) (requires-python:>=3.7,<3.10)\n",
      "  Link requires a different Python (3.10.12 not in: '>=3.7,<3.10'): https://files.pythonhosted.org/packages/47/33/a24aec22b7be7fdb10ec117a95e1e4099890d8bbc6646902f443fc7719d1/scipy-1.7.1.tar.gz#sha256=6b47d5fa7ea651054362561a28b1ccc8da9368a39514c1bbf6c0977a1c376764 (from https://pypi.org/simple/scipy/) (requires-python:>=3.7,<3.10)\n",
      "Collecting scipy>=1.3.2\n",
      "  Using cached scipy-1.13.0-cp310-cp310-manylinux_2_17_x86_64.manylinux2014_x86_64.whl (38.6 MB)\n",
      "Collecting threadpoolctl>=2.0.0\n",
      "  Downloading threadpoolctl-3.5.0-py3-none-any.whl (18 kB)\n",
      "Collecting numpy>=1.17.3\n",
      "  Downloading numpy-1.26.4-cp310-cp310-manylinux_2_17_x86_64.manylinux2014_x86_64.whl (18.2 MB)\n",
      "\u001b[2K     \u001b[90m━━━━━━━━━━━━━━━━━━━━━━━━━━━━━━━━━━━━━━━━\u001b[0m \u001b[32m18.2/18.2 MB\u001b[0m \u001b[31m6.6 MB/s\u001b[0m eta \u001b[36m0:00:00\u001b[0m00:01\u001b[0m00:01\u001b[0m\n",
      "\u001b[?25hCollecting joblib>=1.1.1\n",
      "  Downloading joblib-1.4.2-py3-none-any.whl (301 kB)\n",
      "\u001b[2K     \u001b[90m━━━━━━━━━━━━━━━━━━━━━━━━━━━━━━━━━━━━━━━\u001b[0m \u001b[32m301.8/301.8 KB\u001b[0m \u001b[31m6.7 MB/s\u001b[0m eta \u001b[36m0:00:00\u001b[0ma \u001b[36m0:00:01\u001b[0m\n",
      "\u001b[?25hInstalling collected packages: threadpoolctl, numpy, joblib, scipy, scikit-learn\n",
      "  Attempting uninstall: threadpoolctl\n",
      "    Found existing installation: threadpoolctl 3.4.0\n",
      "    Uninstalling threadpoolctl-3.4.0:\n",
      "      Removing file or directory /home/kristian/.local/lib/python3.10/site-packages/__pycache__/threadpoolctl.cpython-310.pyc\n",
      "      Removing file or directory /home/kristian/.local/lib/python3.10/site-packages/threadpoolctl-3.4.0.dist-info/\n",
      "      Removing file or directory /home/kristian/.local/lib/python3.10/site-packages/threadpoolctl.py\n",
      "      Successfully uninstalled threadpoolctl-3.4.0\n",
      "  Attempting uninstall: numpy\n",
      "    Found existing installation: numpy 1.26.0\n",
      "    Uninstalling numpy-1.26.0:\n",
      "      Removing file or directory /home/kristian/.local/bin/f2py\n",
      "      Removing file or directory /home/kristian/.local/lib/python3.10/site-packages/numpy-1.26.0.dist-info/\n",
      "      Removing file or directory /home/kristian/.local/lib/python3.10/site-packages/numpy.libs/\n",
      "      Removing file or directory /home/kristian/.local/lib/python3.10/site-packages/numpy/\n",
      "      Successfully uninstalled numpy-1.26.0\n",
      "  changing mode of /home/kristian/.local/bin/f2py to 755\n",
      "  Attempting uninstall: joblib\n",
      "    Found existing installation: joblib 1.4.0\n",
      "    Uninstalling joblib-1.4.0:\n",
      "      Removing file or directory /home/kristian/.local/lib/python3.10/site-packages/joblib-1.4.0.dist-info/\n",
      "      Removing file or directory /home/kristian/.local/lib/python3.10/site-packages/joblib/\n",
      "      Successfully uninstalled joblib-1.4.0\n",
      "  Attempting uninstall: scipy\n",
      "    Found existing installation: scipy 1.13.0\n",
      "    Uninstalling scipy-1.13.0:\n",
      "      Removing file or directory /home/kristian/.local/lib/python3.10/site-packages/scipy-1.13.0.dist-info/\n",
      "      Removing file or directory /home/kristian/.local/lib/python3.10/site-packages/scipy.libs/\n",
      "      Removing file or directory /home/kristian/.local/lib/python3.10/site-packages/scipy/\n",
      "      Successfully uninstalled scipy-1.13.0\n",
      "  Attempting uninstall: scikit-learn\n",
      "    Found existing installation: scikit-learn 1.4.2\n",
      "    Uninstalling scikit-learn-1.4.2:\n",
      "      Removing file or directory /home/kristian/.local/lib/python3.10/site-packages/scikit_learn-1.4.2.dist-info/\n",
      "      Removing file or directory /home/kristian/.local/lib/python3.10/site-packages/scikit_learn.libs/\n",
      "      Removing file or directory /home/kristian/.local/lib/python3.10/site-packages/sklearn/\n",
      "      Successfully uninstalled scikit-learn-1.4.2\n",
      "Successfully installed joblib-1.4.2 numpy-1.26.4 scikit-learn-1.2.2 scipy-1.13.0 threadpoolctl-3.5.0\n",
      "Note: you may need to restart the kernel to use updated packages.\n"
     ]
    }
   ],
   "source": [
    "%pip install --force-reinstall -v scikit-learn==1.2.2"
   ]
  },
  {
   "cell_type": "markdown",
   "metadata": {},
   "source": [
    "### Setup"
   ]
  },
  {
   "cell_type": "code",
   "execution_count": 2,
   "metadata": {},
   "outputs": [
    {
     "data": {
      "text/plain": [
       "True"
      ]
     },
     "execution_count": 2,
     "metadata": {},
     "output_type": "execute_result"
    }
   ],
   "source": [
    "# program for testing rf_wrapper.py\n",
    "import os\n",
    "import pandas as pd\n",
    "from Modules.rf_wrapper import RF_Model, Preprocess\n",
    "\n",
    "# set up directories\n",
    "data_dir = os.getcwd() + r'/Data'\n",
    "model_dir = os.getcwd() + r'/Models'"
   ]
  },
  {
   "cell_type": "markdown",
   "metadata": {},
   "source": [
    "### Load Data"
   ]
  },
  {
   "cell_type": "code",
   "execution_count": null,
   "metadata": {},
   "outputs": [],
   "source": [
    "# load testing data\n",
    "X = pd.read_csv((data_dir + '/x_test.csv'), nrows=5)\n",
    "y = pd.read_csv((data_dir + '/y_test.csv'), nrows=5)"
   ]
  },
  {
   "cell_type": "markdown",
   "metadata": {},
   "source": [
    "### Load Model"
   ]
  },
  {
   "cell_type": "code",
   "execution_count": 3,
   "metadata": {},
   "outputs": [
    {
     "name": "stdout",
     "output_type": "stream",
     "text": [
      "Successfully loaded model.\n",
      "Successfully loaded scaler.\n"
     ]
    }
   ],
   "source": [
    "# load model and predict on test data\n",
    "model = RF_Model()\n",
    "\n",
    "if model.LoadGridSearch(f'{model_dir}/random_forest.joblib'):\n",
    "    print(\"Successfully loaded model.\")\n",
    "\n",
    "if model.LoadScaler(f'{model_dir}/std_scaler.joblib'):\n",
    "    print(\"Successfully loaded scaler.\")"
   ]
  },
  {
   "cell_type": "markdown",
   "metadata": {},
   "source": [
    "### Make Predictions"
   ]
  },
  {
   "cell_type": "code",
   "execution_count": 21,
   "metadata": {},
   "outputs": [
    {
     "name": "stdout",
     "output_type": "stream",
     "text": [
      "Idx   | Predicted     | Truth\n",
      "0     | UDP           | UDP\n",
      "1     | DrDoS_SSDP    | Syn\n",
      "2     | BENIGN        | BENIGN\n",
      "3     | BENIGN        | BENIGN\n",
      "4     | BENIGN        | BENIGN\n"
     ]
    },
    {
     "name": "stderr",
     "output_type": "stream",
     "text": [
      "/home/kristian/.local/lib/python3.10/site-packages/sklearn/utils/validation.py:767: FutureWarning: is_sparse is deprecated and will be removed in a future version. Check `isinstance(dtype, pd.SparseDtype)` instead.\n",
      "  if not hasattr(array, \"sparse\") and array.dtypes.apply(is_sparse).any():\n",
      "/home/kristian/.local/lib/python3.10/site-packages/sklearn/utils/validation.py:605: FutureWarning: is_sparse is deprecated and will be removed in a future version. Check `isinstance(dtype, pd.SparseDtype)` instead.\n",
      "  if is_sparse(pd_dtype):\n",
      "/home/kristian/.local/lib/python3.10/site-packages/sklearn/utils/validation.py:614: FutureWarning: is_sparse is deprecated and will be removed in a future version. Check `isinstance(dtype, pd.SparseDtype)` instead.\n",
      "  if is_sparse(pd_dtype) or not is_extension_array_dtype(pd_dtype):\n"
     ]
    }
   ],
   "source": [
    "pred = model.Predict(X, is_scaled=True)\n",
    "\n",
    "print(f\"{'Idx':<5} | {'Predicted':<13} | Truth\")\n",
    "for idx in enumerate(pred):\n",
    "    print(f\"{idx[0]:<5n} | {pred[idx[0]]:<13} | {y[' Label'].iloc[idx[0]]}\")"
   ]
  }
 ],
 "metadata": {
  "kernelspec": {
   "display_name": "Python 3",
   "language": "python",
   "name": "python3"
  },
  "language_info": {
   "codemirror_mode": {
    "name": "ipython",
    "version": 3
   },
   "file_extension": ".py",
   "mimetype": "text/x-python",
   "name": "python",
   "nbconvert_exporter": "python",
   "pygments_lexer": "ipython3",
   "version": "3.10.12"
  }
 },
 "nbformat": 4,
 "nbformat_minor": 2
}
