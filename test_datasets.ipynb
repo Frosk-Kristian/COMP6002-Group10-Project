{
 "cells": [
  {
   "cell_type": "code",
   "execution_count": 1,
   "metadata": {},
   "outputs": [],
   "source": [
    "# program for testing rf_wrapper.py\n",
    "import os\n",
    "import pandas as pd\n",
    "from Modules.rf_wrapper import RF_Model, Preprocess\n",
    "\n",
    "# set up directories\n",
    "data_dir = os.getcwd() + r'/Data'\n",
    "model_dir = os.getcwd() + r'/Models'"
   ]
  },
  {
   "cell_type": "code",
   "execution_count": 2,
   "metadata": {},
   "outputs": [],
   "source": [
    "udp = pd.read_csv(f'{data_dir}/UDP.zip', compression='zip')\n",
    "syn = pd.read_csv(f'{data_dir}/SYN.zip', compression='zip')\n",
    "both = pd.read_csv(f'{data_dir}/Final_TCP_UDP_DDoS_Attack.zip', compression='zip')"
   ]
  },
  {
   "cell_type": "code",
   "execution_count": 14,
   "metadata": {},
   "outputs": [
    {
     "data": {
      "text/plain": [
       "Index([' Source IP', ' Source Port', ' Destination IP', ' Destination Port',\n",
       "       ' Protocol', ' Timestamp', ' Flow Duration', ' Total Fwd Packets',\n",
       "       ' Total Backwards Packets', ' Total Length of Fwd Packets',\n",
       "       ' Total Length of Backward Packets', ' Fwd Packet Length Max',\n",
       "       ' Fwd Packet Length Mean', ' Fwd Packet Length Std',\n",
       "       ' Backwards Packet Length Max', ' Backwards Packet Length Min',\n",
       "       ' Backwards Packet Length Mean', ' Backwards Packet Length Std',\n",
       "       ' Flow Bytes/s', ' Flow Packets/s', ' Flow IAT Mean', ' Flow IAT Std',\n",
       "       ' Flow IAT Max', ' Flow IAT Min', ' Fwd IAT Total', ' Fwd IAT Mean',\n",
       "       ' Fwd IAT Std', ' Fwd IAT Max', ' Fwd IAT Min', ' Bwd IAT Total',\n",
       "       ' Bwd IAT Mean', ' Bwd IAT Std', ' Bwd IAT Max', ' Bwd IAT Min',\n",
       "       ' Fwd PSH Flags', ' Fwd URG Flags', ' Bwd PSH Flags', ' Bwd URG Flags',\n",
       "       ' Fwd Header Length', ' Bwd Header Length', ' Fwd Packets/s',\n",
       "       ' Bwd Packets/s', ' Min Packet Length', ' Max Packet Length',\n",
       "       ' Packet Length Mean', ' Packet Length Std', ' Packet Length Variance',\n",
       "       ' FIN Flag Count', ' SYN Flag Count', ' RST Flag Count',\n",
       "       ' PSH Flag Count', ' ACK Flag Count', ' URG Flag Count',\n",
       "       ' CWE Flag Count', ' ECE Flag Count', ' Down/Up Ratio',\n",
       "       ' Average Packets Size', ' Avg Fwd Segment Size',\n",
       "       ' Avg Bwd Segment Size', ' Fwd Avg Bytes/Bulk', ' Fwd Avg Packets/Bulk',\n",
       "       ' Fwd Avg Bulk Rate', ' Bwd Avg Bytes/Bulk', ' Bwd Avg Packets/Bulk',\n",
       "       ' Bwd Avg Bulk Rate', ' Subflow Fwd Packets', ' Subflow Fwd Bytes',\n",
       "       ' Subflow Bwd Packets', ' Subflow Bwd Bytes', ' Init_Win_bytes_forward',\n",
       "       ' Init_Win_bytes_backward', ' Act_data_pkt_fwd',\n",
       "       ' mim_seg_size_forward', ' Active Mean', ' Active Std', ' Active Max',\n",
       "       ' Active Min', ' Idle Mean', ' Idle Std', ' Idle Max', ' Idle Min',\n",
       "       ' Inbound', ' Label'],\n",
       "      dtype='object')"
      ]
     },
     "execution_count": 14,
     "metadata": {},
     "output_type": "execute_result"
    }
   ],
   "source": [
    "both.columns"
   ]
  },
  {
   "cell_type": "code",
   "execution_count": 11,
   "metadata": {},
   "outputs": [
    {
     "name": "stdout",
     "output_type": "stream",
     "text": [
      "Differences from UDP:\n",
      " Total Backward Packets\n",
      "Idle Mean\n",
      " Fwd Header Length.1\n",
      "Fwd IAT Total\n",
      "Fwd PSH Flags\n",
      " Bwd Packet Length Std\n",
      "Bwd IAT Total\n",
      "Init_Win_bytes_forward\n",
      "Fwd Avg Bytes/Bulk\n",
      " act_data_pkt_fwd\n",
      " Fwd Packet Length Min\n",
      "Fwd Packets/s\n",
      "Subflow Fwd Packets\n",
      " Average Packet Size\n",
      " Bwd Packet Length Min\n",
      "Total Length of Fwd Packets\n",
      " Bwd Packet Length Mean\n",
      "Flow Bytes/s\n",
      "FIN Flag Count\n",
      "Bwd Packet Length Max\n",
      " min_seg_size_forward\n",
      "Bwd Avg Bulk Rate\n",
      "Active Mean\n",
      " Total Length of Bwd Packets\n"
     ]
    }
   ],
   "source": [
    "print(\"Differences from UDP:\")\n",
    "udp_miss = list(set(udp.columns).difference(both.columns))\n",
    "\n",
    "for col in udp_miss:\n",
    "    print(col)"
   ]
  },
  {
   "cell_type": "code",
   "execution_count": 12,
   "metadata": {},
   "outputs": [
    {
     "name": "stdout",
     "output_type": "stream",
     "text": [
      "Differences from SYN:\n",
      " Total Backward Packets\n",
      "Idle Mean\n",
      " Fwd Header Length.1\n",
      "Fwd IAT Total\n",
      "Fwd PSH Flags\n",
      " Bwd Packet Length Std\n",
      "Bwd IAT Total\n",
      "Init_Win_bytes_forward\n",
      "Fwd Avg Bytes/Bulk\n",
      " act_data_pkt_fwd\n",
      " Fwd Packet Length Min\n",
      "Fwd Packets/s\n",
      "Subflow Fwd Packets\n",
      " Average Packet Size\n",
      " Bwd Packet Length Min\n",
      "Total Length of Fwd Packets\n",
      " Bwd Packet Length Mean\n",
      "Flow Bytes/s\n",
      "FIN Flag Count\n",
      "Bwd Packet Length Max\n",
      " min_seg_size_forward\n",
      "Bwd Avg Bulk Rate\n",
      "Active Mean\n",
      " Total Length of Bwd Packets\n",
      "Label\n"
     ]
    }
   ],
   "source": [
    "print(\"Differences from SYN:\")\n",
    "syn_miss = list(set(syn.columns).difference(both.columns))\n",
    "\n",
    "for col in syn_miss:\n",
    "    print(col)"
   ]
  },
  {
   "cell_type": "code",
   "execution_count": 16,
   "metadata": {},
   "outputs": [],
   "source": [
    "both_fix = both.copy(deep=True)"
   ]
  },
  {
   "cell_type": "code",
   "execution_count": null,
   "metadata": {},
   "outputs": [],
   "source": [
    "both_fix[' Total Backward Packets'] = both_fix[' Total Backwards Packets']\n",
    "both_fix['Idle Mean'] = both_fix[' Idle Mean']\n",
    "both_fix['Fwd IAT Total'] = both_fix[' Fwd IAT Total']\n",
    "both_fix['Fwd PSH Flags'] = both_fix[' Fwd PSH Flags']\n",
    "both_fix[' Bwd Packet Length Std'] = both_fix[' Backwards Packet Length Std']\n",
    "both_fix['Bwd IAT Total'] = both_fix[' Bwd IAT Total']\n",
    "both_fix['Init_Win_bytes_forward'] = both_fix[' Init_Win_bytes_forward']\n",
    "both_fix['Fwd Avg Bytes/Bulk'] = both_fix[' Fwd Avg Bytes/Bulk']\n",
    "both_fix['act_data_pkt_fwd'] = both_fix[' Act_data_pkt_fwd']\n",
    "#both_fix[' Fwd Packet Length Min'] = MISSING!!!!!!!!!!!!!!!!!!!!\n",
    "\n",
    "\n",
    "\n",
    "both_fix.drop(columns=[' Total Backwards Packets', ' Idle Mean', ' Fwd IAT Total', ' Backwards Packet Length Std', ' Bwd IAT Total', ' Init_Win_bytes_forward', ' Fwd Avg Bytes/Bulk', ' Act_data_pkt_fwd'],\n",
    "              inplace=True)"
   ]
  }
 ],
 "metadata": {
  "kernelspec": {
   "display_name": "Python 3",
   "language": "python",
   "name": "python3"
  },
  "language_info": {
   "codemirror_mode": {
    "name": "ipython",
    "version": 3
   },
   "file_extension": ".py",
   "mimetype": "text/x-python",
   "name": "python",
   "nbconvert_exporter": "python",
   "pygments_lexer": "ipython3",
   "version": "3.10.12"
  }
 },
 "nbformat": 4,
 "nbformat_minor": 2
}
